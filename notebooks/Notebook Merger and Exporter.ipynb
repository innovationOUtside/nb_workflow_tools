{
 "cells": [
  {
   "cell_type": "markdown",
   "metadata": {},
   "source": [
    "# Notebook To Create MS Word Docs For Notebooks in a Folder\n",
    "\n",
    "This notebook contains a minimum viable recipe for creating a single Microsoft Word document from the notebooks contained within a specified folder.\n",
    "\n",
    "The recipe:\n",
    "\n",
    "- generates a list of notebooks in a folder\n",
    "- creates a single notebook from those notebooks\n",
    "- writes a temporary html export of that merged notebook\n",
    "- converts the html export of the merged notebooks to a docx file.\n",
    "\n",
    "Put this notebook in the parent directory of the directory you want to process."
   ]
  },
  {
   "cell_type": "code",
   "execution_count": null,
   "metadata": {},
   "outputs": [],
   "source": [
    "#Function to merge notebooks\n",
    "#This could be extended to add separators between, or notebook title/headers for, each notebook\n",
    "# We could also extend it to allow for notebooks to be executed before being concatenated\n",
    "\n",
    "#https://gist.github.com/fperez/e2bbc0a208e82e450f69\n",
    "import io\n",
    "import os\n",
    "import sys\n",
    "\n",
    "import nbformat\n",
    "\n",
    "def merge_notebooks(filenames):\n",
    "    merged = None\n",
    "    for fname in filenames:\n",
    "        with io.open(fname, 'r', encoding='utf-8') as f:\n",
    "            nb = nbformat.read(f, as_version=4)\n",
    "        if merged is None:\n",
    "            merged = nb\n",
    "        else:\n",
    "            # TODO: add an optional marker between joined notebooks\n",
    "            # like an horizontal rule, for example, or some other arbitrary\n",
    "            # (user specified) markdown cell)\n",
    "            merged.cells.extend(nb.cells)\n",
    "    if not hasattr(merged.metadata, 'name'):\n",
    "        merged.metadata.name = ''\n",
    "    merged.metadata.name += \"_merged\"\n",
    "    return nbformat.writes(merged)"
   ]
  },
  {
   "cell_type": "code",
   "execution_count": 3,
   "metadata": {},
   "outputs": [
    {
     "data": {
      "text/plain": [
       "'808c51a9'"
      ]
     },
     "execution_count": 3,
     "metadata": {},
     "output_type": "execute_result"
    }
   ],
   "source": [
    "from nbformat.v4.convert import random_cell_id\n",
    "random_cell_id()"
   ]
  },
  {
   "cell_type": "code",
   "execution_count": null,
   "metadata": {
    "collapsed": true
   },
   "outputs": [],
   "source": [
    "#Folder you want to process\n",
    "nbdir='Part 01 Notebooks'"
   ]
  },
  {
   "cell_type": "code",
   "execution_count": null,
   "metadata": {},
   "outputs": [],
   "source": [
    "#Note - we could make a function of this\n",
    "#and then iterate through all the child folders with Notebooks in the name, creating a Word doc for each\n",
    "#We could even try to create a single monolithic document from notebooks in all child Notebooks folders\n",
    "fn_out='{}_merged'.format(nbdir.replace(' ','_'))\n",
    "with open('{}.ipynb'.format(fn_out),'w') as f:\n",
    "    f.write(merge_notebooks( ['{}/{}'.format(nbdir,nb) for nb in os.listdir(nbdir) if nb.endswith('.ipynb') ]))\n",
    "    \n",
    "    #By default, we will just export notebooks as they are, but we can also run them prior to export.\n",
    "    #However, any state set early on in a merged notebook will propagate through the other merged notebooks' code\n",
    "    #Also, pandas runs dataframes in memory so processing lots of merged notebooks could be dangerous!\n",
    "    #!jupyter nbconvert --to notebook --execute \"$fn_out\".ipynb\n",
    "    #The executed notebook will be named \"$fn_out\".nbformat.ipynb\n",
    "    #To execute in place (i.e. retaining the original filename)\n",
    "    #!jupyter nbconvert --to notebook --execute \"$fn_out\".ipynb --output \"$fn_out\".ipynb\n",
    "    #To execute notebooks to completion even if errors are encountered, add the flag: --allow-errors \n",
    "    \n",
    "    #convert the merged document to html\n",
    "    !jupyter nbconvert --to html \"$fn_out\".ipynb\n",
    "    \n",
    "    # Convert to MS Word .docx\n",
    "    !pandoc -s \"$fn_out\".html -o \"$fn_out\".docx\n",
    "    !rm \"$fn_out\".html\n",
    "!rm \"$fn_out\".ipynb"
   ]
  },
  {
   "cell_type": "markdown",
   "metadata": {},
   "source": [
    "If everything works, you should now find a Word document titled `\"$fn_out\".docx` in the current directory."
   ]
  }
 ],
 "metadata": {
  "kernelspec": {
   "display_name": "Python 3",
   "language": "python",
   "name": "python3"
  },
  "language_info": {
   "codemirror_mode": {
    "name": "ipython",
    "version": 3
   },
   "file_extension": ".py",
   "mimetype": "text/x-python",
   "name": "python",
   "nbconvert_exporter": "python",
   "pygments_lexer": "ipython3",
   "version": "3.9.5"
  }
 },
 "nbformat": 4,
 "nbformat_minor": 2
}
