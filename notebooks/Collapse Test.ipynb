{
 "cells": [
  {
   "cell_type": "markdown",
   "id": "25219803",
   "metadata": {},
   "source": [
    "# Collapsible Heading Test"
   ]
  },
  {
   "cell_type": "markdown",
   "id": "e60a5ba3",
   "metadata": {},
   "source": [
    "Test"
   ]
  },
  {
   "cell_type": "markdown",
   "id": "67f36d24",
   "metadata": {
    "tags": [
     "style-activity"
    ]
   },
   "source": [
    "## Activity"
   ]
  },
  {
   "cell_type": "code",
   "execution_count": 1,
   "id": "46b40dae",
   "metadata": {
    "tags": [
     "style-activity"
    ]
   },
   "outputs": [],
   "source": [
    "# code"
   ]
  },
  {
   "cell_type": "markdown",
   "id": "046cfea7",
   "metadata": {
    "heading_collapsed": true,
    "tags": [
     "style-activity"
    ]
   },
   "source": [
    "### Answer"
   ]
  },
  {
   "cell_type": "markdown",
   "id": "2c9a92ff",
   "metadata": {
    "hidden": true,
    "tags": [
     "style-activity"
    ]
   },
   "source": [
    "Should be collapsed"
   ]
  },
  {
   "cell_type": "code",
   "execution_count": 2,
   "id": "856c78ca",
   "metadata": {
    "hidden": true,
    "tags": [
     "style-activity"
    ]
   },
   "outputs": [],
   "source": [
    "# Should be collapsed"
   ]
  },
  {
   "cell_type": "markdown",
   "id": "d9fad523",
   "metadata": {
    "hidden": true,
    "tags": [
     "style-activity"
    ]
   },
   "source": [
    "Should be collapsed"
   ]
  },
  {
   "cell_type": "code",
   "execution_count": 3,
   "id": "0480822e",
   "metadata": {},
   "outputs": [],
   "source": [
    "## Not Collapsed"
   ]
  }
 ],
 "metadata": {
  "celltoolbar": "Edit Metadata",
  "kernelspec": {
   "display_name": "Python 3",
   "language": "python",
   "name": "python3"
  },
  "language_info": {
   "codemirror_mode": {
    "name": "ipython",
    "version": 3
   },
   "file_extension": ".py",
   "mimetype": "text/x-python",
   "name": "python",
   "nbconvert_exporter": "python",
   "pygments_lexer": "ipython3",
   "version": "3.9.5"
  }
 },
 "nbformat": 4,
 "nbformat_minor": 5
}
