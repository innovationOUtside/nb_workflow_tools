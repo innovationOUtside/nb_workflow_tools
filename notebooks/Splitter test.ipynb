{
 "cells": [
  {
   "cell_type": "markdown",
   "id": "4f5d2314",
   "metadata": {},
   "source": [
    "# Part 1"
   ]
  },
  {
   "cell_type": "code",
   "execution_count": 1,
   "id": "8c67c5a7",
   "metadata": {},
   "outputs": [],
   "source": [
    "# part 1 code"
   ]
  },
  {
   "cell_type": "markdown",
   "id": "bf90ff54",
   "metadata": {},
   "source": [
    "Part 1 MD"
   ]
  },
  {
   "cell_type": "code",
   "execution_count": null,
   "id": "3f5854ba",
   "metadata": {},
   "outputs": [],
   "source": [
    "#--SPLITHERE--"
   ]
  },
  {
   "cell_type": "markdown",
   "id": "3acc2825",
   "metadata": {},
   "source": [
    "# Part 2"
   ]
  },
  {
   "cell_type": "code",
   "execution_count": 1,
   "id": "87d67854",
   "metadata": {},
   "outputs": [],
   "source": [
    "# part 2 code"
   ]
  },
  {
   "cell_type": "markdown",
   "id": "13e501fc",
   "metadata": {},
   "source": [
    "Part 2 MD"
   ]
  },
  {
   "cell_type": "markdown",
   "id": "707e428c",
   "metadata": {},
   "source": [
    "# --SPLITHERE--"
   ]
  },
  {
   "cell_type": "markdown",
   "id": "3d9ef525",
   "metadata": {},
   "source": [
    "# Part 3"
   ]
  },
  {
   "cell_type": "code",
   "execution_count": 1,
   "id": "b30da077",
   "metadata": {},
   "outputs": [],
   "source": [
    "# part 3 code"
   ]
  },
  {
   "cell_type": "markdown",
   "id": "ae2c01c7",
   "metadata": {},
   "source": [
    "Part 3 MD"
   ]
  }
 ],
 "metadata": {
  "kernelspec": {
   "display_name": "Python 3",
   "language": "python",
   "name": "python3"
  },
  "language_info": {
   "codemirror_mode": {
    "name": "ipython",
    "version": 3
   },
   "file_extension": ".py",
   "mimetype": "text/x-python",
   "name": "python",
   "nbconvert_exporter": "python",
   "pygments_lexer": "ipython3",
   "version": "3.9.5"
  }
 },
 "nbformat": 4,
 "nbformat_minor": 5
}
