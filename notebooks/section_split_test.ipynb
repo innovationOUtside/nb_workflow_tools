{
 "cells": [
  {
   "cell_type": "markdown",
   "id": "fb1b4069",
   "metadata": {},
   "source": [
    "# Level 1A Text.\n",
    "\n"
   ]
  },
  {
   "cell_type": "markdown",
   "id": "f54072da",
   "metadata": {},
   "source": [
    "# Level 1B Text.\n",
    "\n"
   ]
  },
  {
   "cell_type": "markdown",
   "id": "d949165a",
   "metadata": {},
   "source": [
    "## Level 2A Text.\n",
    "\n"
   ]
  },
  {
   "cell_type": "markdown",
   "id": "90c21d91",
   "metadata": {},
   "source": [
    "### Level 3A Text.\n",
    "\n"
   ]
  },
  {
   "cell_type": "markdown",
   "id": "4b7cff3d",
   "metadata": {},
   "source": [
    "### Level 3B Text\n",
    "\n"
   ]
  },
  {
   "cell_type": "markdown",
   "id": "798b5b83",
   "metadata": {},
   "source": [
    "## Level 2C Text"
   ]
  }
 ],
 "metadata": {
  "language_info": {
   "name": "python"
  }
 },
 "nbformat": 4,
 "nbformat_minor": 2
}
