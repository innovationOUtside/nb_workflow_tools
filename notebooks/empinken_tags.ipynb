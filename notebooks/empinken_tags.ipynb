{
 "cells": [
  {
   "cell_type": "code",
   "execution_count": null,
   "metadata": {},
   "outputs": [],
   "source": [
    "Untagged"
   ]
  },
  {
   "cell_type": "code",
   "execution_count": null,
   "metadata": {},
   "outputs": [],
   "source": [
    "# untagged"
   ]
  },
  {
   "cell_type": "markdown",
   "metadata": {
    "tags": [
     "dummy", "style_activity","style_solution","style_student","style_commentate"
    ]
   },
   "source": [
    "Was `style_activity`/`style_solution`/`style_student`/`style_commentate`"
   ]
  },
  {
   "cell_type": "code",
   "execution_count": null,
   "metadata": {
    "tags": [
     "dummy",
     "style_activity",
     "style_solution",
     "style_student",
     "style_commentate"
    ]
   },
   "outputs": [],
   "source": [
    "# Was `style_activity`/`style_solution`/`style_student`/`style_commentate`/`dummy`"
   ]
  },
  {
   "cell_type": "markdown",
   "metadata": {
    "tags": [
     "style-activity",
     "style-solution",
     "style-student",
     "style-commentate",
     "dummy"
    ]
   },
   "source": [
    "Was `style-activity`/`style-solution`/`style-student`/`style-commentate` / `dummy`"
   ]
  },
  {
   "cell_type": "code",
   "execution_count": null,
   "metadata": {
    "tags": [
     "style-activity",
     "style-solution",
     "style-student",
     "style-commentate"
    ]
   },
   "outputs": [],
   "source": [
    "#Was `style-activity`/`style-solution`/`style-student`/`style-commentate` / `dummy`"
   ]
  },
  {
   "cell_type": "markdown",
   "metadata": {
    "tags": [
     "style-activity",
     "style-solution",
     "style-learner",
     "style-tutor",
     "dummy"
    ]
   },
   "source": [
    "Was `style-activity`/`style-solution`/`style-learner`/`style-tutor`/`dummy`"
   ]
  },
  {
   "cell_type": "code",
   "execution_count": null,
   "metadata": {
    "tags": [
     "style-activity",
     "style-solution",
     "style-learner",
     "style-tutor",
     "dummy"
    ]
   },
   "outputs": [],
   "source": [
    "#Was `style-activity`/`style-solution`/`style-learner`/`style-tutor` / 'dummy`"
   ]
  }
 ],
 "metadata": {
  "language_info": {
   "name": "python"
  }
 },
 "nbformat": 4,
 "nbformat_minor": 2
}
